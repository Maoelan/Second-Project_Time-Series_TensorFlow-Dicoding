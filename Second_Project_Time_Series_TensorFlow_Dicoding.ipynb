{
  "nbformat": 4,
  "nbformat_minor": 0,
  "metadata": {
    "colab": {
      "provenance": [],
      "mount_file_id": "1EI_CNSWfXOvFD8RDPHV1H5AHzY14pgRi",
      "authorship_tag": "ABX9TyMLjmT/+1Nvi6rlHK/uVnHG",
      "include_colab_link": true
    },
    "kernelspec": {
      "name": "python3",
      "display_name": "Python 3"
    },
    "language_info": {
      "name": "python"
    }
  },
  "cells": [
    {
      "cell_type": "markdown",
      "metadata": {
        "id": "view-in-github",
        "colab_type": "text"
      },
      "source": [
        "<a href=\"https://colab.research.google.com/github/Maoelan/Second-Project_Time-Series_TensorFlow-Dicoding-/blob/main/Second_Project_Time_Series_TensorFlow_Dicoding.ipynb\" target=\"_parent\"><img src=\"https://colab.research.google.com/assets/colab-badge.svg\" alt=\"Open In Colab\"/></a>"
      ]
    },
    {
      "cell_type": "code",
      "execution_count": 1,
      "metadata": {
        "id": "QPRlTntk0cHO"
      },
      "outputs": [],
      "source": [
        "import numpy as np \n",
        "import pandas as pd\n",
        "import tensorflow as tf\n",
        "from sklearn.model_selection import train_test_split\n",
        "from sklearn.preprocessing import MinMaxScaler\n",
        "from keras.layers import Dense, LSTM\n",
        "import matplotlib.pyplot as plt\n",
        "import tensorflow as tf"
      ]
    },
    {
      "cell_type": "code",
      "source": [
        "data = pd.read_csv('/content/drive/MyDrive/dataset/raw_sales.csv')"
      ],
      "metadata": {
        "id": "oZHcRQGV0eCf"
      },
      "execution_count": 2,
      "outputs": []
    },
    {
      "cell_type": "markdown",
      "source": [
        "Dataset : https://www.kaggle.com/datasets/htagholdings/property-sales"
      ],
      "metadata": {
        "id": "h__1_Fgeoqch"
      }
    },
    {
      "cell_type": "code",
      "source": [
        "data.head()"
      ],
      "metadata": {
        "colab": {
          "base_uri": "https://localhost:8080/",
          "height": 206
        },
        "id": "pNMPVsFA0fJJ",
        "outputId": "9e07b01e-121c-4fc1-d982-0f99d8a721b9"
      },
      "execution_count": 3,
      "outputs": [
        {
          "output_type": "execute_result",
          "data": {
            "text/plain": [
              "              datesold  postcode   price propertyType  bedrooms\n",
              "0  2007-02-07 00:00:00      2607  525000        house         4\n",
              "1  2007-02-27 00:00:00      2906  290000        house         3\n",
              "2  2007-03-07 00:00:00      2905  328000        house         3\n",
              "3  2007-03-09 00:00:00      2905  380000        house         4\n",
              "4  2007-03-21 00:00:00      2906  310000        house         3"
            ],
            "text/html": [
              "\n",
              "  <div id=\"df-e5f96ac2-3630-4b99-950e-410854723737\">\n",
              "    <div class=\"colab-df-container\">\n",
              "      <div>\n",
              "<style scoped>\n",
              "    .dataframe tbody tr th:only-of-type {\n",
              "        vertical-align: middle;\n",
              "    }\n",
              "\n",
              "    .dataframe tbody tr th {\n",
              "        vertical-align: top;\n",
              "    }\n",
              "\n",
              "    .dataframe thead th {\n",
              "        text-align: right;\n",
              "    }\n",
              "</style>\n",
              "<table border=\"1\" class=\"dataframe\">\n",
              "  <thead>\n",
              "    <tr style=\"text-align: right;\">\n",
              "      <th></th>\n",
              "      <th>datesold</th>\n",
              "      <th>postcode</th>\n",
              "      <th>price</th>\n",
              "      <th>propertyType</th>\n",
              "      <th>bedrooms</th>\n",
              "    </tr>\n",
              "  </thead>\n",
              "  <tbody>\n",
              "    <tr>\n",
              "      <th>0</th>\n",
              "      <td>2007-02-07 00:00:00</td>\n",
              "      <td>2607</td>\n",
              "      <td>525000</td>\n",
              "      <td>house</td>\n",
              "      <td>4</td>\n",
              "    </tr>\n",
              "    <tr>\n",
              "      <th>1</th>\n",
              "      <td>2007-02-27 00:00:00</td>\n",
              "      <td>2906</td>\n",
              "      <td>290000</td>\n",
              "      <td>house</td>\n",
              "      <td>3</td>\n",
              "    </tr>\n",
              "    <tr>\n",
              "      <th>2</th>\n",
              "      <td>2007-03-07 00:00:00</td>\n",
              "      <td>2905</td>\n",
              "      <td>328000</td>\n",
              "      <td>house</td>\n",
              "      <td>3</td>\n",
              "    </tr>\n",
              "    <tr>\n",
              "      <th>3</th>\n",
              "      <td>2007-03-09 00:00:00</td>\n",
              "      <td>2905</td>\n",
              "      <td>380000</td>\n",
              "      <td>house</td>\n",
              "      <td>4</td>\n",
              "    </tr>\n",
              "    <tr>\n",
              "      <th>4</th>\n",
              "      <td>2007-03-21 00:00:00</td>\n",
              "      <td>2906</td>\n",
              "      <td>310000</td>\n",
              "      <td>house</td>\n",
              "      <td>3</td>\n",
              "    </tr>\n",
              "  </tbody>\n",
              "</table>\n",
              "</div>\n",
              "      <button class=\"colab-df-convert\" onclick=\"convertToInteractive('df-e5f96ac2-3630-4b99-950e-410854723737')\"\n",
              "              title=\"Convert this dataframe to an interactive table.\"\n",
              "              style=\"display:none;\">\n",
              "        \n",
              "  <svg xmlns=\"http://www.w3.org/2000/svg\" height=\"24px\"viewBox=\"0 0 24 24\"\n",
              "       width=\"24px\">\n",
              "    <path d=\"M0 0h24v24H0V0z\" fill=\"none\"/>\n",
              "    <path d=\"M18.56 5.44l.94 2.06.94-2.06 2.06-.94-2.06-.94-.94-2.06-.94 2.06-2.06.94zm-11 1L8.5 8.5l.94-2.06 2.06-.94-2.06-.94L8.5 2.5l-.94 2.06-2.06.94zm10 10l.94 2.06.94-2.06 2.06-.94-2.06-.94-.94-2.06-.94 2.06-2.06.94z\"/><path d=\"M17.41 7.96l-1.37-1.37c-.4-.4-.92-.59-1.43-.59-.52 0-1.04.2-1.43.59L10.3 9.45l-7.72 7.72c-.78.78-.78 2.05 0 2.83L4 21.41c.39.39.9.59 1.41.59.51 0 1.02-.2 1.41-.59l7.78-7.78 2.81-2.81c.8-.78.8-2.07 0-2.86zM5.41 20L4 18.59l7.72-7.72 1.47 1.35L5.41 20z\"/>\n",
              "  </svg>\n",
              "      </button>\n",
              "      \n",
              "  <style>\n",
              "    .colab-df-container {\n",
              "      display:flex;\n",
              "      flex-wrap:wrap;\n",
              "      gap: 12px;\n",
              "    }\n",
              "\n",
              "    .colab-df-convert {\n",
              "      background-color: #E8F0FE;\n",
              "      border: none;\n",
              "      border-radius: 50%;\n",
              "      cursor: pointer;\n",
              "      display: none;\n",
              "      fill: #1967D2;\n",
              "      height: 32px;\n",
              "      padding: 0 0 0 0;\n",
              "      width: 32px;\n",
              "    }\n",
              "\n",
              "    .colab-df-convert:hover {\n",
              "      background-color: #E2EBFA;\n",
              "      box-shadow: 0px 1px 2px rgba(60, 64, 67, 0.3), 0px 1px 3px 1px rgba(60, 64, 67, 0.15);\n",
              "      fill: #174EA6;\n",
              "    }\n",
              "\n",
              "    [theme=dark] .colab-df-convert {\n",
              "      background-color: #3B4455;\n",
              "      fill: #D2E3FC;\n",
              "    }\n",
              "\n",
              "    [theme=dark] .colab-df-convert:hover {\n",
              "      background-color: #434B5C;\n",
              "      box-shadow: 0px 1px 3px 1px rgba(0, 0, 0, 0.15);\n",
              "      filter: drop-shadow(0px 1px 2px rgba(0, 0, 0, 0.3));\n",
              "      fill: #FFFFFF;\n",
              "    }\n",
              "  </style>\n",
              "\n",
              "      <script>\n",
              "        const buttonEl =\n",
              "          document.querySelector('#df-e5f96ac2-3630-4b99-950e-410854723737 button.colab-df-convert');\n",
              "        buttonEl.style.display =\n",
              "          google.colab.kernel.accessAllowed ? 'block' : 'none';\n",
              "\n",
              "        async function convertToInteractive(key) {\n",
              "          const element = document.querySelector('#df-e5f96ac2-3630-4b99-950e-410854723737');\n",
              "          const dataTable =\n",
              "            await google.colab.kernel.invokeFunction('convertToInteractive',\n",
              "                                                     [key], {});\n",
              "          if (!dataTable) return;\n",
              "\n",
              "          const docLinkHtml = 'Like what you see? Visit the ' +\n",
              "            '<a target=\"_blank\" href=https://colab.research.google.com/notebooks/data_table.ipynb>data table notebook</a>'\n",
              "            + ' to learn more about interactive tables.';\n",
              "          element.innerHTML = '';\n",
              "          dataTable['output_type'] = 'display_data';\n",
              "          await google.colab.output.renderOutput(dataTable, element);\n",
              "          const docLink = document.createElement('div');\n",
              "          docLink.innerHTML = docLinkHtml;\n",
              "          element.appendChild(docLink);\n",
              "        }\n",
              "      </script>\n",
              "    </div>\n",
              "  </div>\n",
              "  "
            ]
          },
          "metadata": {},
          "execution_count": 3
        }
      ]
    },
    {
      "cell_type": "code",
      "source": [
        "data.tail()"
      ],
      "metadata": {
        "colab": {
          "base_uri": "https://localhost:8080/",
          "height": 206
        },
        "id": "pBMx5ztx0gf9",
        "outputId": "a5344421-da26-439b-91c4-f29ddd3126ac"
      },
      "execution_count": 4,
      "outputs": [
        {
          "output_type": "execute_result",
          "data": {
            "text/plain": [
              "                  datesold  postcode   price propertyType  bedrooms\n",
              "29575  2019-07-25 00:00:00      2900  500000         unit         3\n",
              "29576  2019-07-25 00:00:00      2612  560000         unit         2\n",
              "29577  2019-07-26 00:00:00      2912  464950         unit         2\n",
              "29578  2019-07-26 00:00:00      2601  589000         unit         2\n",
              "29579  2019-07-26 00:00:00      2612  775000         unit         2"
            ],
            "text/html": [
              "\n",
              "  <div id=\"df-438464c4-9f27-43b6-9ea9-6c9674a0f8f9\">\n",
              "    <div class=\"colab-df-container\">\n",
              "      <div>\n",
              "<style scoped>\n",
              "    .dataframe tbody tr th:only-of-type {\n",
              "        vertical-align: middle;\n",
              "    }\n",
              "\n",
              "    .dataframe tbody tr th {\n",
              "        vertical-align: top;\n",
              "    }\n",
              "\n",
              "    .dataframe thead th {\n",
              "        text-align: right;\n",
              "    }\n",
              "</style>\n",
              "<table border=\"1\" class=\"dataframe\">\n",
              "  <thead>\n",
              "    <tr style=\"text-align: right;\">\n",
              "      <th></th>\n",
              "      <th>datesold</th>\n",
              "      <th>postcode</th>\n",
              "      <th>price</th>\n",
              "      <th>propertyType</th>\n",
              "      <th>bedrooms</th>\n",
              "    </tr>\n",
              "  </thead>\n",
              "  <tbody>\n",
              "    <tr>\n",
              "      <th>29575</th>\n",
              "      <td>2019-07-25 00:00:00</td>\n",
              "      <td>2900</td>\n",
              "      <td>500000</td>\n",
              "      <td>unit</td>\n",
              "      <td>3</td>\n",
              "    </tr>\n",
              "    <tr>\n",
              "      <th>29576</th>\n",
              "      <td>2019-07-25 00:00:00</td>\n",
              "      <td>2612</td>\n",
              "      <td>560000</td>\n",
              "      <td>unit</td>\n",
              "      <td>2</td>\n",
              "    </tr>\n",
              "    <tr>\n",
              "      <th>29577</th>\n",
              "      <td>2019-07-26 00:00:00</td>\n",
              "      <td>2912</td>\n",
              "      <td>464950</td>\n",
              "      <td>unit</td>\n",
              "      <td>2</td>\n",
              "    </tr>\n",
              "    <tr>\n",
              "      <th>29578</th>\n",
              "      <td>2019-07-26 00:00:00</td>\n",
              "      <td>2601</td>\n",
              "      <td>589000</td>\n",
              "      <td>unit</td>\n",
              "      <td>2</td>\n",
              "    </tr>\n",
              "    <tr>\n",
              "      <th>29579</th>\n",
              "      <td>2019-07-26 00:00:00</td>\n",
              "      <td>2612</td>\n",
              "      <td>775000</td>\n",
              "      <td>unit</td>\n",
              "      <td>2</td>\n",
              "    </tr>\n",
              "  </tbody>\n",
              "</table>\n",
              "</div>\n",
              "      <button class=\"colab-df-convert\" onclick=\"convertToInteractive('df-438464c4-9f27-43b6-9ea9-6c9674a0f8f9')\"\n",
              "              title=\"Convert this dataframe to an interactive table.\"\n",
              "              style=\"display:none;\">\n",
              "        \n",
              "  <svg xmlns=\"http://www.w3.org/2000/svg\" height=\"24px\"viewBox=\"0 0 24 24\"\n",
              "       width=\"24px\">\n",
              "    <path d=\"M0 0h24v24H0V0z\" fill=\"none\"/>\n",
              "    <path d=\"M18.56 5.44l.94 2.06.94-2.06 2.06-.94-2.06-.94-.94-2.06-.94 2.06-2.06.94zm-11 1L8.5 8.5l.94-2.06 2.06-.94-2.06-.94L8.5 2.5l-.94 2.06-2.06.94zm10 10l.94 2.06.94-2.06 2.06-.94-2.06-.94-.94-2.06-.94 2.06-2.06.94z\"/><path d=\"M17.41 7.96l-1.37-1.37c-.4-.4-.92-.59-1.43-.59-.52 0-1.04.2-1.43.59L10.3 9.45l-7.72 7.72c-.78.78-.78 2.05 0 2.83L4 21.41c.39.39.9.59 1.41.59.51 0 1.02-.2 1.41-.59l7.78-7.78 2.81-2.81c.8-.78.8-2.07 0-2.86zM5.41 20L4 18.59l7.72-7.72 1.47 1.35L5.41 20z\"/>\n",
              "  </svg>\n",
              "      </button>\n",
              "      \n",
              "  <style>\n",
              "    .colab-df-container {\n",
              "      display:flex;\n",
              "      flex-wrap:wrap;\n",
              "      gap: 12px;\n",
              "    }\n",
              "\n",
              "    .colab-df-convert {\n",
              "      background-color: #E8F0FE;\n",
              "      border: none;\n",
              "      border-radius: 50%;\n",
              "      cursor: pointer;\n",
              "      display: none;\n",
              "      fill: #1967D2;\n",
              "      height: 32px;\n",
              "      padding: 0 0 0 0;\n",
              "      width: 32px;\n",
              "    }\n",
              "\n",
              "    .colab-df-convert:hover {\n",
              "      background-color: #E2EBFA;\n",
              "      box-shadow: 0px 1px 2px rgba(60, 64, 67, 0.3), 0px 1px 3px 1px rgba(60, 64, 67, 0.15);\n",
              "      fill: #174EA6;\n",
              "    }\n",
              "\n",
              "    [theme=dark] .colab-df-convert {\n",
              "      background-color: #3B4455;\n",
              "      fill: #D2E3FC;\n",
              "    }\n",
              "\n",
              "    [theme=dark] .colab-df-convert:hover {\n",
              "      background-color: #434B5C;\n",
              "      box-shadow: 0px 1px 3px 1px rgba(0, 0, 0, 0.15);\n",
              "      filter: drop-shadow(0px 1px 2px rgba(0, 0, 0, 0.3));\n",
              "      fill: #FFFFFF;\n",
              "    }\n",
              "  </style>\n",
              "\n",
              "      <script>\n",
              "        const buttonEl =\n",
              "          document.querySelector('#df-438464c4-9f27-43b6-9ea9-6c9674a0f8f9 button.colab-df-convert');\n",
              "        buttonEl.style.display =\n",
              "          google.colab.kernel.accessAllowed ? 'block' : 'none';\n",
              "\n",
              "        async function convertToInteractive(key) {\n",
              "          const element = document.querySelector('#df-438464c4-9f27-43b6-9ea9-6c9674a0f8f9');\n",
              "          const dataTable =\n",
              "            await google.colab.kernel.invokeFunction('convertToInteractive',\n",
              "                                                     [key], {});\n",
              "          if (!dataTable) return;\n",
              "\n",
              "          const docLinkHtml = 'Like what you see? Visit the ' +\n",
              "            '<a target=\"_blank\" href=https://colab.research.google.com/notebooks/data_table.ipynb>data table notebook</a>'\n",
              "            + ' to learn more about interactive tables.';\n",
              "          element.innerHTML = '';\n",
              "          dataTable['output_type'] = 'display_data';\n",
              "          await google.colab.output.renderOutput(dataTable, element);\n",
              "          const docLink = document.createElement('div');\n",
              "          docLink.innerHTML = docLinkHtml;\n",
              "          element.appendChild(docLink);\n",
              "        }\n",
              "      </script>\n",
              "    </div>\n",
              "  </div>\n",
              "  "
            ]
          },
          "metadata": {},
          "execution_count": 4
        }
      ]
    },
    {
      "cell_type": "code",
      "source": [
        "data.info()"
      ],
      "metadata": {
        "colab": {
          "base_uri": "https://localhost:8080/"
        },
        "id": "btFavAAT0hjF",
        "outputId": "599b4b90-2854-421c-93ba-8b32d5f794d1"
      },
      "execution_count": 5,
      "outputs": [
        {
          "output_type": "stream",
          "name": "stdout",
          "text": [
            "<class 'pandas.core.frame.DataFrame'>\n",
            "RangeIndex: 29580 entries, 0 to 29579\n",
            "Data columns (total 5 columns):\n",
            " #   Column        Non-Null Count  Dtype \n",
            "---  ------        --------------  ----- \n",
            " 0   datesold      29580 non-null  object\n",
            " 1   postcode      29580 non-null  int64 \n",
            " 2   price         29580 non-null  int64 \n",
            " 3   propertyType  29580 non-null  object\n",
            " 4   bedrooms      29580 non-null  int64 \n",
            "dtypes: int64(3), object(2)\n",
            "memory usage: 1.1+ MB\n"
          ]
        }
      ]
    },
    {
      "cell_type": "code",
      "source": [
        "date_sold = data['datesold'].values\n",
        "price = data[['price']].values"
      ],
      "metadata": {
        "id": "cjryOeU-0isH"
      },
      "execution_count": 6,
      "outputs": []
    },
    {
      "cell_type": "code",
      "source": [
        "plt.figure(figsize=(15,5))\n",
        "plt.plot(date_sold,price)\n",
        "plt.title('Price for which the property was sold')"
      ],
      "metadata": {
        "colab": {
          "base_uri": "https://localhost:8080/",
          "height": 294
        },
        "id": "RVOATdMS0jkK",
        "outputId": "3707c83e-e32a-43b7-eeb9-981c189daf75"
      },
      "execution_count": 24,
      "outputs": [
        {
          "output_type": "execute_result",
          "data": {
            "text/plain": [
              "Text(0.5, 1.0, 'Price for which the property was sold')"
            ]
          },
          "metadata": {},
          "execution_count": 24
        },
        {
          "output_type": "display_data",
          "data": {
            "text/plain": [
              "<Figure size 1080x360 with 1 Axes>"
            ],
            "image/png": "[encoded data removed]"
          },
          "metadata": {
            "needs_background": "light"
          }
        }
      ]
    },
    {
      "cell_type": "code",
      "source": [
        "min_max_scaler = MinMaxScaler()\n",
        "price = min_max_scaler.fit_transform(price)"
      ],
      "metadata": {
        "id": "xFUFdgBP0kom"
      },
      "execution_count": 8,
      "outputs": []
    },
    {
      "cell_type": "code",
      "source": [
        "price"
      ],
      "metadata": {
        "colab": {
          "base_uri": "https://localhost:8080/"
        },
        "id": "am0f_irsYQdx",
        "outputId": "20706280-2ad6-448d-f68d-f115b123d236"
      },
      "execution_count": 9,
      "outputs": [
        {
          "output_type": "execute_result",
          "data": {
            "text/plain": [
              "array([[0.05897904],\n",
              "       [0.0293951 ],\n",
              "       [0.03417889],\n",
              "       ...,\n",
              "       [0.0514194 ],\n",
              "       [0.06703594],\n",
              "       [0.09045131]])"
            ]
          },
          "metadata": {},
          "execution_count": 9
        }
      ]
    },
    {
      "cell_type": "code",
      "source": [
        "threshold_mae = (price.max() - price.min()) * 10/100\n",
        "threshold_mae"
      ],
      "metadata": {
        "colab": {
          "base_uri": "https://localhost:8080/"
        },
        "id": "Ta8uMjRisN0w",
        "outputId": "b069cd4d-3a08-4fa9-9065-c94d20d21f5f"
      },
      "execution_count": 11,
      "outputs": [
        {
          "output_type": "execute_result",
          "data": {
            "text/plain": [
              "0.09999999999999998"
            ]
          },
          "metadata": {},
          "execution_count": 11
        }
      ]
    },
    {
      "cell_type": "code",
      "source": [
        "dates_train, dates_val, price_train, price_val = train_test_split(date_sold, price, test_size=0.2, shuffle=False)"
      ],
      "metadata": {
        "id": "KUiMCDcz0qFU"
      },
      "execution_count": 13,
      "outputs": []
    },
    {
      "cell_type": "code",
      "source": [
        "def windowed_dataset(series, window_size, batch_size, shuffle_buffer):\n",
        "    series = tf.expand_dims(series, axis=-1)\n",
        "    ds = tf.data.Dataset.from_tensor_slices(series)\n",
        "    ds = ds.window(window_size+1, shift=1, drop_remainder=True)\n",
        "    ds = ds.flat_map(lambda w: w.batch(window_size+1))\n",
        "    ds = ds.shuffle(shuffle_buffer)\n",
        "    ds = ds.map(lambda w: (w[:-1], w[-1:]))\n",
        "    return ds.batch(batch_size).prefetch(1)"
      ],
      "metadata": {
        "id": "vNA43bUy0rA7"
      },
      "execution_count": 14,
      "outputs": []
    },
    {
      "cell_type": "code",
      "source": [
        "train_set = windowed_dataset(price_train, window_size=60, batch_size=100, shuffle_buffer=1000)\n",
        "val_set = windowed_dataset(price_val, window_size=60, batch_size=100, shuffle_buffer=1000)\n",
        "\n",
        "model = tf.keras.Sequential([\n",
        "    tf.keras.layers.LSTM(60, input_shape=(None,1), return_sequences=True),\n",
        "    tf.keras.layers.LSTM(60),\n",
        "    tf.keras.layers.Dropout(0.4),\n",
        "    tf.keras.layers.Flatten(),\n",
        "    \n",
        "    tf.keras.layers.Dense(30, activation='relu'),\n",
        "    tf.keras.layers.Dense(10, activation='relu'),\n",
        "    tf.keras.layers.Dense(1)\n",
        "])"
      ],
      "metadata": {
        "id": "dRZLdDJW0sOE",
        "colab": {
          "base_uri": "https://localhost:8080/"
        },
        "outputId": "6464b950-1682-45d0-eebe-156f18d48e3e"
      },
      "execution_count": 15,
      "outputs": [
        {
          "output_type": "stream",
          "name": "stderr",
          "text": [
            "WARNING:tensorflow:From /usr/local/lib/python3.9/dist-packages/tensorflow/python/autograph/pyct/static_analysis/liveness.py:83: Analyzer.lamba_check (from tensorflow.python.autograph.pyct.static_analysis.liveness) is deprecated and will be removed after 2023-09-23.\n",
            "Instructions for updating:\n",
            "Lambda fuctions will be no more assumed to be used in the statement where they are used, or at least in the same block. https://github.com/tensorflow/tensorflow/issues/56089\n"
          ]
        }
      ]
    },
    {
      "cell_type": "code",
      "source": [
        "optimizer = tf.keras.optimizers.SGD(lr=1.0000e-04, momentum=0.9)\n",
        "model.compile(loss=tf.keras.losses.Huber(),\n",
        "              optimizer=optimizer,\n",
        "              metrics=[\"mae\"])"
      ],
      "metadata": {
        "id": "eNsugYlO0tg_",
        "colab": {
          "base_uri": "https://localhost:8080/"
        },
        "outputId": "cb457776-3c56-4f97-d2f5-101da862c8b1"
      },
      "execution_count": 16,
      "outputs": [
        {
          "output_type": "stream",
          "name": "stderr",
          "text": [
            "WARNING:absl:`lr` is deprecated, please use `learning_rate` instead, or use the legacy optimizer, e.g.,tf.keras.optimizers.legacy.SGD.\n"
          ]
        }
      ]
    },
    {
      "cell_type": "code",
      "source": [
        "class myCallback(tf.keras.callbacks.Callback):\n",
        "  def on_epoch_end(self, epoch, logs={}):\n",
        "    if(logs.get('mae')<0.020):\n",
        "      print(\"\\nMae < 2% keseluruhan data\")\n",
        "      self.model.stop_training = True\n",
        "callbacks = myCallback()"
      ],
      "metadata": {
        "id": "j1wxhT6d0urw"
      },
      "execution_count": 19,
      "outputs": []
    },
    {
      "cell_type": "code",
      "source": [
        "history = model.fit(train_set, epochs=100, validation_data=(val_set), callbacks=[callbacks])"
      ],
      "metadata": {
        "id": "-W91AIxm0wPQ",
        "colab": {
          "base_uri": "https://localhost:8080/"
        },
        "outputId": "a00fdb9c-5533-4b78-9f02-8ac762a4146c"
      },
      "execution_count": 20,
      "outputs": [
        {
          "output_type": "stream",
          "name": "stdout",
          "text": [
            "Epoch 1/100\n",
            "237/237 [==============================] - 74s 309ms/step - loss: 6.2153e-04 - mae: 0.0224 - val_loss: 8.2130e-04 - val_mae: 0.0363\n",
            "Epoch 2/100\n",
            "237/237 [==============================] - 40s 170ms/step - loss: 6.1896e-04 - mae: 0.0223 - val_loss: 8.1760e-04 - val_mae: 0.0362\n",
            "Epoch 3/100\n",
            "237/237 [==============================] - 40s 169ms/step - loss: 6.1828e-04 - mae: 0.0223 - val_loss: 8.0988e-04 - val_mae: 0.0360\n",
            "Epoch 4/100\n",
            "237/237 [==============================] - 42s 176ms/step - loss: 6.1713e-04 - mae: 0.0222 - val_loss: 8.4664e-04 - val_mae: 0.0369\n",
            "Epoch 5/100\n",
            "237/237 [==============================] - 43s 179ms/step - loss: 6.1905e-04 - mae: 0.0223 - val_loss: 8.2635e-04 - val_mae: 0.0364\n",
            "Epoch 6/100\n",
            "237/237 [==============================] - 43s 181ms/step - loss: 6.1850e-04 - mae: 0.0223 - val_loss: 8.4921e-04 - val_mae: 0.0370\n",
            "Epoch 7/100\n",
            "237/237 [==============================] - 40s 170ms/step - loss: 6.1989e-04 - mae: 0.0224 - val_loss: 7.9246e-04 - val_mae: 0.0356\n",
            "Epoch 8/100\n",
            "237/237 [==============================] - 41s 170ms/step - loss: 6.1778e-04 - mae: 0.0222 - val_loss: 8.2454e-04 - val_mae: 0.0364\n",
            "Epoch 9/100\n",
            "237/237 [==============================] - 39s 163ms/step - loss: 6.1770e-04 - mae: 0.0222 - val_loss: 8.8577e-04 - val_mae: 0.0379\n",
            "Epoch 10/100\n",
            "237/237 [==============================] - 42s 177ms/step - loss: 6.2044e-04 - mae: 0.0223 - val_loss: 8.2548e-04 - val_mae: 0.0364\n",
            "Epoch 11/100\n",
            "237/237 [==============================] - 42s 177ms/step - loss: 6.1816e-04 - mae: 0.0222 - val_loss: 8.3048e-04 - val_mae: 0.0365\n",
            "Epoch 12/100\n",
            "237/237 [==============================] - 44s 182ms/step - loss: 6.1973e-04 - mae: 0.0223 - val_loss: 8.6368e-04 - val_mae: 0.0374\n",
            "Epoch 13/100\n",
            "237/237 [==============================] - 41s 172ms/step - loss: 6.2029e-04 - mae: 0.0223 - val_loss: 8.5699e-04 - val_mae: 0.0372\n",
            "Epoch 14/100\n",
            "237/237 [==============================] - 41s 173ms/step - loss: 6.1894e-04 - mae: 0.0223 - val_loss: 8.8201e-04 - val_mae: 0.0378\n",
            "Epoch 15/100\n",
            "237/237 [==============================] - 41s 170ms/step - loss: 6.1877e-04 - mae: 0.0223 - val_loss: 8.5872e-04 - val_mae: 0.0373\n",
            "Epoch 16/100\n",
            "237/237 [==============================] - 42s 175ms/step - loss: 6.1870e-04 - mae: 0.0222 - val_loss: 8.6170e-04 - val_mae: 0.0373\n",
            "Epoch 17/100\n",
            "237/237 [==============================] - 47s 197ms/step - loss: 6.1970e-04 - mae: 0.0223 - val_loss: 8.4862e-04 - val_mae: 0.0370\n",
            "Epoch 18/100\n",
            "237/237 [==============================] - 45s 190ms/step - loss: 6.1923e-04 - mae: 0.0223 - val_loss: 8.3487e-04 - val_mae: 0.0366\n",
            "Epoch 19/100\n",
            "237/237 [==============================] - 46s 191ms/step - loss: 6.2003e-04 - mae: 0.0223 - val_loss: 9.0119e-04 - val_mae: 0.0383\n",
            "Epoch 20/100\n",
            "237/237 [==============================] - 46s 191ms/step - loss: 6.2135e-04 - mae: 0.0224 - val_loss: 8.6434e-04 - val_mae: 0.0374\n",
            "Epoch 21/100\n",
            "237/237 [==============================] - 45s 190ms/step - loss: 6.1974e-04 - mae: 0.0223 - val_loss: 8.5733e-04 - val_mae: 0.0372\n",
            "Epoch 22/100\n",
            "237/237 [==============================] - 45s 189ms/step - loss: 6.1808e-04 - mae: 0.0223 - val_loss: 8.6431e-04 - val_mae: 0.0374\n",
            "Epoch 23/100\n",
            "237/237 [==============================] - 42s 178ms/step - loss: 6.1926e-04 - mae: 0.0223 - val_loss: 8.9916e-04 - val_mae: 0.0383\n",
            "Epoch 24/100\n",
            "237/237 [==============================] - 41s 174ms/step - loss: 6.2241e-04 - mae: 0.0224 - val_loss: 8.3682e-04 - val_mae: 0.0367\n",
            "Epoch 25/100\n",
            "237/237 [==============================] - 41s 174ms/step - loss: 6.1912e-04 - mae: 0.0223 - val_loss: 8.3502e-04 - val_mae: 0.0366\n",
            "Epoch 26/100\n",
            "237/237 [==============================] - 42s 177ms/step - loss: 6.1877e-04 - mae: 0.0223 - val_loss: 8.4393e-04 - val_mae: 0.0369\n",
            "Epoch 27/100\n",
            "237/237 [==============================] - 42s 178ms/step - loss: 6.1886e-04 - mae: 0.0222 - val_loss: 8.7627e-04 - val_mae: 0.0377\n",
            "Epoch 28/100\n",
            "237/237 [==============================] - 41s 174ms/step - loss: 6.1981e-04 - mae: 0.0223 - val_loss: 8.5166e-04 - val_mae: 0.0371\n",
            "Epoch 29/100\n",
            "237/237 [==============================] - 42s 176ms/step - loss: 6.1880e-04 - mae: 0.0223 - val_loss: 8.7777e-04 - val_mae: 0.0377\n",
            "Epoch 30/100\n",
            "237/237 [==============================] - 44s 184ms/step - loss: 6.2068e-04 - mae: 0.0223 - val_loss: 8.4969e-04 - val_mae: 0.0370\n",
            "Epoch 31/100\n",
            "237/237 [==============================] - 44s 184ms/step - loss: 6.1883e-04 - mae: 0.0222 - val_loss: 8.9454e-04 - val_mae: 0.0381\n",
            "Epoch 32/100\n",
            "237/237 [==============================] - 47s 196ms/step - loss: 6.2015e-04 - mae: 0.0223 - val_loss: 8.3879e-04 - val_mae: 0.0367\n",
            "Epoch 33/100\n",
            "237/237 [==============================] - 43s 179ms/step - loss: 6.1840e-04 - mae: 0.0223 - val_loss: 8.6291e-04 - val_mae: 0.0374\n",
            "Epoch 34/100\n",
            "237/237 [==============================] - 44s 183ms/step - loss: 6.1796e-04 - mae: 0.0222 - val_loss: 8.9423e-04 - val_mae: 0.0381\n",
            "Epoch 35/100\n",
            "237/237 [==============================] - 48s 201ms/step - loss: 6.2054e-04 - mae: 0.0223 - val_loss: 8.5434e-04 - val_mae: 0.0371\n",
            "Epoch 36/100\n",
            "237/237 [==============================] - 47s 197ms/step - loss: 6.1833e-04 - mae: 0.0222 - val_loss: 8.6382e-04 - val_mae: 0.0374\n",
            "Epoch 37/100\n",
            "237/237 [==============================] - 42s 176ms/step - loss: 6.1847e-04 - mae: 0.0223 - val_loss: 8.6029e-04 - val_mae: 0.0373\n",
            "Epoch 38/100\n",
            "237/237 [==============================] - 49s 204ms/step - loss: 6.1804e-04 - mae: 0.0222 - val_loss: 8.6882e-04 - val_mae: 0.0375\n",
            "Epoch 39/100\n",
            "237/237 [==============================] - 51s 212ms/step - loss: 6.1944e-04 - mae: 0.0223 - val_loss: 9.0310e-04 - val_mae: 0.0383\n",
            "Epoch 40/100\n",
            "237/237 [==============================] - 51s 213ms/step - loss: 6.2265e-04 - mae: 0.0224 - val_loss: 8.5208e-04 - val_mae: 0.0371\n",
            "Epoch 41/100\n",
            "237/237 [==============================] - 47s 197ms/step - loss: 6.1822e-04 - mae: 0.0222 - val_loss: 8.7430e-04 - val_mae: 0.0376\n",
            "Epoch 42/100\n",
            "237/237 [==============================] - 47s 199ms/step - loss: 6.1817e-04 - mae: 0.0222 - val_loss: 8.6481e-04 - val_mae: 0.0374\n",
            "Epoch 43/100\n",
            "237/237 [==============================] - 49s 206ms/step - loss: 6.1915e-04 - mae: 0.0223 - val_loss: 8.7604e-04 - val_mae: 0.0377\n",
            "Epoch 44/100\n",
            "237/237 [==============================] - 48s 201ms/step - loss: 6.1950e-04 - mae: 0.0223 - val_loss: 8.6033e-04 - val_mae: 0.0373\n",
            "Epoch 45/100\n",
            "237/237 [==============================] - 46s 195ms/step - loss: 6.1955e-04 - mae: 0.0223 - val_loss: 8.2152e-04 - val_mae: 0.0363\n",
            "Epoch 46/100\n",
            "237/237 [==============================] - 48s 202ms/step - loss: 6.1823e-04 - mae: 0.0222 - val_loss: 8.5026e-04 - val_mae: 0.0371\n",
            "Epoch 47/100\n",
            "237/237 [==============================] - 50s 209ms/step - loss: 6.1859e-04 - mae: 0.0223 - val_loss: 8.8436e-04 - val_mae: 0.0379\n",
            "Epoch 48/100\n",
            "237/237 [==============================] - 47s 199ms/step - loss: 6.2069e-04 - mae: 0.0223 - val_loss: 8.7352e-04 - val_mae: 0.0376\n",
            "Epoch 49/100\n",
            "237/237 [==============================] - 54s 227ms/step - loss: 6.1847e-04 - mae: 0.0222 - val_loss: 8.3008e-04 - val_mae: 0.0365\n",
            "Epoch 50/100\n",
            "237/237 [==============================] - 48s 203ms/step - loss: 6.1961e-04 - mae: 0.0223 - val_loss: 8.3271e-04 - val_mae: 0.0366\n",
            "Epoch 51/100\n",
            "237/237 [==============================] - 52s 216ms/step - loss: 6.1794e-04 - mae: 0.0222 - val_loss: 9.3928e-04 - val_mae: 0.0392\n",
            "Epoch 52/100\n",
            "237/237 [==============================] - 48s 202ms/step - loss: 6.2081e-04 - mae: 0.0223 - val_loss: 9.0441e-04 - val_mae: 0.0384\n",
            "Epoch 53/100\n",
            "237/237 [==============================] - 49s 204ms/step - loss: 6.1982e-04 - mae: 0.0223 - val_loss: 8.7419e-04 - val_mae: 0.0376\n",
            "Epoch 54/100\n",
            "237/237 [==============================] - 54s 226ms/step - loss: 6.1996e-04 - mae: 0.0223 - val_loss: 8.9795e-04 - val_mae: 0.0382\n",
            "Epoch 55/100\n",
            "237/237 [==============================] - 52s 219ms/step - loss: 6.2062e-04 - mae: 0.0223 - val_loss: 9.2583e-04 - val_mae: 0.0389\n",
            "Epoch 56/100\n",
            "237/237 [==============================] - 49s 205ms/step - loss: 6.2044e-04 - mae: 0.0223 - val_loss: 8.9412e-04 - val_mae: 0.0381\n",
            "Epoch 57/100\n",
            "237/237 [==============================] - 46s 194ms/step - loss: 6.2008e-04 - mae: 0.0223 - val_loss: 9.2013e-04 - val_mae: 0.0387\n",
            "Epoch 58/100\n",
            "237/237 [==============================] - 47s 199ms/step - loss: 6.2085e-04 - mae: 0.0223 - val_loss: 9.5053e-04 - val_mae: 0.0395\n",
            "Epoch 59/100\n",
            "237/237 [==============================] - 50s 212ms/step - loss: 6.2141e-04 - mae: 0.0224 - val_loss: 9.1996e-04 - val_mae: 0.0388\n",
            "Epoch 60/100\n",
            "237/237 [==============================] - 48s 203ms/step - loss: 6.2106e-04 - mae: 0.0224 - val_loss: 8.9482e-04 - val_mae: 0.0381\n",
            "Epoch 61/100\n",
            "237/237 [==============================] - 49s 204ms/step - loss: 6.1977e-04 - mae: 0.0223 - val_loss: 8.8250e-04 - val_mae: 0.0378\n",
            "Epoch 62/100\n",
            "237/237 [==============================] - 49s 205ms/step - loss: 6.1941e-04 - mae: 0.0223 - val_loss: 9.1422e-04 - val_mae: 0.0386\n",
            "Epoch 63/100\n",
            "237/237 [==============================] - 52s 219ms/step - loss: 6.2279e-04 - mae: 0.0224 - val_loss: 9.1862e-04 - val_mae: 0.0387\n",
            "Epoch 64/100\n",
            "237/237 [==============================] - 47s 197ms/step - loss: 6.2057e-04 - mae: 0.0223 - val_loss: 9.0677e-04 - val_mae: 0.0384\n",
            "Epoch 65/100\n",
            "237/237 [==============================] - 48s 203ms/step - loss: 6.2078e-04 - mae: 0.0223 - val_loss: 9.3640e-04 - val_mae: 0.0391\n",
            "Epoch 66/100\n",
            "237/237 [==============================] - 49s 204ms/step - loss: 6.2173e-04 - mae: 0.0223 - val_loss: 9.2801e-04 - val_mae: 0.0389\n",
            "Epoch 67/100\n",
            "237/237 [==============================] - 48s 201ms/step - loss: 6.2123e-04 - mae: 0.0223 - val_loss: 8.9273e-04 - val_mae: 0.0381\n",
            "Epoch 68/100\n",
            "237/237 [==============================] - 46s 195ms/step - loss: 6.2023e-04 - mae: 0.0223 - val_loss: 9.1788e-04 - val_mae: 0.0387\n",
            "Epoch 69/100\n",
            "237/237 [==============================] - 45s 189ms/step - loss: 6.2070e-04 - mae: 0.0223 - val_loss: 9.1596e-04 - val_mae: 0.0386\n",
            "Epoch 70/100\n",
            "237/237 [==============================] - 45s 191ms/step - loss: 6.2174e-04 - mae: 0.0224 - val_loss: 9.0236e-04 - val_mae: 0.0383\n",
            "Epoch 71/100\n",
            "237/237 [==============================] - 45s 187ms/step - loss: 6.1892e-04 - mae: 0.0222 - val_loss: 9.1227e-04 - val_mae: 0.0385\n",
            "Epoch 72/100\n",
            "237/237 [==============================] - 42s 177ms/step - loss: 6.1919e-04 - mae: 0.0223 - val_loss: 9.1385e-04 - val_mae: 0.0386\n",
            "Epoch 73/100\n",
            "237/237 [==============================] - 44s 185ms/step - loss: 6.2157e-04 - mae: 0.0223 - val_loss: 8.9438e-04 - val_mae: 0.0381\n",
            "Epoch 74/100\n",
            "237/237 [==============================] - 43s 179ms/step - loss: 6.1999e-04 - mae: 0.0223 - val_loss: 9.1350e-04 - val_mae: 0.0386\n",
            "Epoch 75/100\n",
            "237/237 [==============================] - 45s 188ms/step - loss: 6.1984e-04 - mae: 0.0223 - val_loss: 9.3136e-04 - val_mae: 0.0390\n",
            "Epoch 76/100\n",
            "237/237 [==============================] - 47s 196ms/step - loss: 6.2207e-04 - mae: 0.0223 - val_loss: 8.8945e-04 - val_mae: 0.0380\n",
            "Epoch 77/100\n",
            "237/237 [==============================] - 47s 198ms/step - loss: 6.1962e-04 - mae: 0.0223 - val_loss: 8.7671e-04 - val_mae: 0.0377\n",
            "Epoch 78/100\n",
            "237/237 [==============================] - 44s 186ms/step - loss: 6.1988e-04 - mae: 0.0223 - val_loss: 8.7848e-04 - val_mae: 0.0377\n",
            "Epoch 79/100\n",
            "237/237 [==============================] - 44s 185ms/step - loss: 6.1919e-04 - mae: 0.0223 - val_loss: 8.8895e-04 - val_mae: 0.0380\n",
            "Epoch 80/100\n",
            "237/237 [==============================] - 44s 185ms/step - loss: 6.1891e-04 - mae: 0.0222 - val_loss: 8.7381e-04 - val_mae: 0.0376\n",
            "Epoch 81/100\n",
            "237/237 [==============================] - 44s 184ms/step - loss: 6.1944e-04 - mae: 0.0223 - val_loss: 9.0602e-04 - val_mae: 0.0384\n",
            "Epoch 82/100\n",
            "237/237 [==============================] - 44s 184ms/step - loss: 6.2041e-04 - mae: 0.0223 - val_loss: 8.9530e-04 - val_mae: 0.0382\n",
            "Epoch 83/100\n",
            "237/237 [==============================] - 44s 184ms/step - loss: 6.1874e-04 - mae: 0.0222 - val_loss: 9.1246e-04 - val_mae: 0.0386\n",
            "Epoch 84/100\n",
            "237/237 [==============================] - 47s 197ms/step - loss: 6.2104e-04 - mae: 0.0223 - val_loss: 9.1308e-04 - val_mae: 0.0386\n",
            "Epoch 85/100\n",
            "237/237 [==============================] - 46s 194ms/step - loss: 6.2063e-04 - mae: 0.0223 - val_loss: 9.3751e-04 - val_mae: 0.0392\n",
            "Epoch 86/100\n",
            "237/237 [==============================] - 44s 186ms/step - loss: 6.2116e-04 - mae: 0.0223 - val_loss: 9.1306e-04 - val_mae: 0.0386\n",
            "Epoch 87/100\n",
            "237/237 [==============================] - 43s 180ms/step - loss: 6.1925e-04 - mae: 0.0222 - val_loss: 9.2268e-04 - val_mae: 0.0388\n",
            "Epoch 88/100\n",
            "237/237 [==============================] - 47s 196ms/step - loss: 6.2040e-04 - mae: 0.0223 - val_loss: 9.2335e-04 - val_mae: 0.0388\n",
            "Epoch 89/100\n",
            "237/237 [==============================] - 45s 188ms/step - loss: 6.1983e-04 - mae: 0.0223 - val_loss: 9.3481e-04 - val_mae: 0.0391\n",
            "Epoch 90/100\n",
            "237/237 [==============================] - 48s 201ms/step - loss: 6.2088e-04 - mae: 0.0223 - val_loss: 8.8500e-04 - val_mae: 0.0379\n",
            "Epoch 91/100\n",
            "237/237 [==============================] - 49s 205ms/step - loss: 6.2043e-04 - mae: 0.0223 - val_loss: 9.2099e-04 - val_mae: 0.0388\n",
            "Epoch 92/100\n",
            "237/237 [==============================] - 50s 207ms/step - loss: 6.2010e-04 - mae: 0.0223 - val_loss: 8.7115e-04 - val_mae: 0.0376\n",
            "Epoch 93/100\n",
            "237/237 [==============================] - 47s 199ms/step - loss: 6.1848e-04 - mae: 0.0222 - val_loss: 9.2594e-04 - val_mae: 0.0389\n",
            "Epoch 94/100\n",
            "237/237 [==============================] - 47s 198ms/step - loss: 6.2184e-04 - mae: 0.0224 - val_loss: 9.1345e-04 - val_mae: 0.0386\n",
            "Epoch 95/100\n",
            "237/237 [==============================] - 48s 203ms/step - loss: 6.2005e-04 - mae: 0.0223 - val_loss: 8.9686e-04 - val_mae: 0.0382\n",
            "Epoch 96/100\n",
            "237/237 [==============================] - 50s 210ms/step - loss: 6.2147e-04 - mae: 0.0224 - val_loss: 9.0228e-04 - val_mae: 0.0383\n",
            "Epoch 97/100\n",
            "237/237 [==============================] - 47s 196ms/step - loss: 6.2173e-04 - mae: 0.0224 - val_loss: 8.9985e-04 - val_mae: 0.0383\n",
            "Epoch 98/100\n",
            "237/237 [==============================] - 48s 202ms/step - loss: 6.2126e-04 - mae: 0.0223 - val_loss: 9.1495e-04 - val_mae: 0.0386\n",
            "Epoch 99/100\n",
            "237/237 [==============================] - 49s 205ms/step - loss: 6.1920e-04 - mae: 0.0222 - val_loss: 9.2285e-04 - val_mae: 0.0388\n",
            "Epoch 100/100\n",
            "237/237 [==============================] - 57s 241ms/step - loss: 6.2159e-04 - mae: 0.0224 - val_loss: 8.9441e-04 - val_mae: 0.0381\n"
          ]
        }
      ]
    },
    {
      "cell_type": "code",
      "source": [
        "model.evaluate(val_set)"
      ],
      "metadata": {
        "id": "i5Pn8xmi1Vxa",
        "colab": {
          "base_uri": "https://localhost:8080/"
        },
        "outputId": "c0bbcf23-17e2-40f5-b430-84f90b661ac0"
      },
      "execution_count": 21,
      "outputs": [
        {
          "output_type": "stream",
          "name": "stdout",
          "text": [
            "59/59 [==============================] - 4s 71ms/step - loss: 8.9441e-04 - mae: 0.0381\n"
          ]
        },
        {
          "output_type": "execute_result",
          "data": {
            "text/plain": [
              "[0.000894408964086324, 0.03813822567462921]"
            ]
          },
          "metadata": {},
          "execution_count": 21
        }
      ]
    },
    {
      "cell_type": "code",
      "source": [
        "plt.plot(history.history['mae'])\n",
        "plt.plot(history.history['val_mae'])\n",
        "plt.title('Model Mae')\n",
        "plt.ylabel('Mae')\n",
        "plt.xlabel('epoch')\n",
        "plt.legend(['train', 'test'], loc='upper left')\n",
        "plt.show()"
      ],
      "metadata": {
        "colab": {
          "base_uri": "https://localhost:8080/",
          "height": 295
        },
        "id": "M-4-HTK_gayQ",
        "outputId": "09f1a6a5-89b0-4594-e203-f0af7de4b792"
      },
      "execution_count": 22,
      "outputs": [
        {
          "output_type": "display_data",
          "data": {
            "text/plain": [
              "<Figure size 432x288 with 1 Axes>"
            ],
            "image/png": "[encoded data removed]"
          },
          "metadata": {
            "needs_background": "light"
          }
        }
      ]
    },
    {
      "cell_type": "code",
      "source": [
        "plt.plot(history.history['loss'])\n",
        "plt.plot(history.history['val_loss'])\n",
        "plt.title('Loss Model')\n",
        "plt.ylabel('loss')\n",
        "plt.xlabel('epoch')\n",
        "plt.legend(['train', 'test'], loc='upper left')\n",
        "plt.show()"
      ],
      "metadata": {
        "colab": {
          "base_uri": "https://localhost:8080/",
          "height": 295
        },
        "id": "RcgWHytnpKDe",
        "outputId": "86f484e1-8c3a-49d2-af69-749ae6e059cd"
      },
      "execution_count": 23,
      "outputs": [
        {
          "output_type": "display_data",
          "data": {
            "text/plain": [
              "<Figure size 432x288 with 1 Axes>"
            ],
            "image/png": "[encoded data removed]"
          },
          "metadata": {
            "needs_background": "light"
          }
        }
      ]
    },
    {
      "cell_type": "code",
      "source": [],
      "metadata": {
        "id": "nQ6XkpZxr2a2"
      },
      "execution_count": null,
      "outputs": []
    }
  ]
}